{
  "cells": [
    {
      "cell_type": "markdown",
      "metadata": {},
      "source": [
        "# Python Code Tips of the Day\n",
        "\n",
        "Run this notebook top-to-bottom as a quick warm-up.\n",
        "_Generated: 2025-10-05 17:45:41_"
      ]
    },
    {
      "cell_type": "code",
      "execution_count": 1,
      "metadata": {},
      "outputs": [
        {
          "name": "stdout",
          "output_type": "stream",
          "text": [
            "Python: 3.13.7\n",
            "Timestamp: 2025-10-05T14:33:54.596150\n"
          ]
        }
      ],
      "source": [
        "import sys, datetime\n",
        "print('Python:', sys.version.split()[0])\n",
        "print('Timestamp:', datetime.datetime.now().isoformat())"
      ]
    },
    {
      "cell_type": "markdown",
      "metadata": {},
      "source": [
        "## 1) Swap variables, multiple assignment, slicing"
      ]
    },
    {
      "cell_type": "code",
      "execution_count": 2,
      "metadata": {},
      "outputs": [
        {
          "name": "stdout",
          "output_type": "stream",
          "text": [
            "2 1\n",
            "3 4 5\n",
            "nohtyP\n"
          ]
        }
      ],
      "source": [
        "a, b = 1, 2\n",
        "a, b = b, a  # swap\n",
        "print(a, b)\n",
        "\n",
        "x, y, z = 3, 4, 5\n",
        "print(x, y, z)\n",
        "\n",
        "text = 'Python'\n",
        "print(text[::-1])  # reverse"
      ]
    },
    {
      "cell_type": "markdown",
      "metadata": {},
      "source": [
        "## 2) Truthiness, emptiness checks, enumerate"
      ]
    },
    {
      "cell_type": "code",
      "execution_count": 3,
      "metadata": {},
      "outputs": [
        {
          "name": "stdout",
          "output_type": "stream",
          "text": [
            "Empty\n",
            "0 a\n",
            "1 b\n",
            "2 c\n"
          ]
        }
      ],
      "source": [
        "items = []\n",
        "print('Empty' if not items else 'Has elements')\n",
        "\n",
        "for i, v in enumerate(['a', 'b', 'c']):\n",
        "    print(i, v)"
      ]
    },
    {
      "cell_type": "markdown",
      "metadata": {},
      "source": [
        "## 3) List comprehensions (build + filter)"
      ]
    },
    {
      "cell_type": "code",
      "execution_count": null,
      "metadata": {},
      "outputs": [],
      "source": [
        "squares = [x**2 for x in range(10)]\n",
        "evens   = [x for x in range(10) if x % 2 == 0]\n",
        "print(squares)\n",
        "print(evens)"
      ]
    },
    {
      "cell_type": "markdown",
      "metadata": {},
      "source": [
        "## 4) Flatten nested lists"
      ]
    },
    {
      "cell_type": "code",
      "execution_count": null,
      "metadata": {},
      "outputs": [],
      "source": [
        "nested = [[1,2],[3,4,5],[6]]\n",
        "flat = [x for sub in nested for x in sub]\n",
        "print(flat)"
      ]
    },
    {
      "cell_type": "markdown",
      "metadata": {},
      "source": [
        "## 5) Zip iteration"
      ]
    },
    {
      "cell_type": "code",
      "execution_count": null,
      "metadata": {},
      "outputs": [],
      "source": [
        "names = ['Alice', 'Bob', 'Charlie']\n",
        "scores = [85, 92, 78]\n",
        "for name, score in zip(names, scores):\n",
        "    print(name, score)"
      ]
    },
    {
      "cell_type": "markdown",
      "metadata": {},
      "source": [
        "## 6) Dict get()/items(), invert dict"
      ]
    },
    {
      "cell_type": "code",
      "execution_count": null,
      "metadata": {},
      "outputs": [],
      "source": [
        "d = {'name': 'Ann', 'age': 20}\n",
        "print(d.get('age', 'Unknown'))\n",
        "for k, v in d.items():\n",
        "    print(k, v)\n",
        "inv = {v: k for k, v in d.items()}\n",
        "print(inv)"
      ]
    },
    {
      "cell_type": "markdown",
      "metadata": {},
      "source": [
        "## 7) f-strings, join, repeat"
      ]
    },
    {
      "cell_type": "code",
      "execution_count": null,
      "metadata": {},
      "outputs": [],
      "source": [
        "name = 'Quan'\n",
        "print(f'Hello, {name}!')\n",
        "parts = ['Python', 'is', 'fun']\n",
        "print(' '.join(parts))\n",
        "print('ha' * 3)"
      ]
    },
    {
      "cell_type": "markdown",
      "metadata": {},
      "source": [
        "## 8) any() / all(), defaulting with `or`"
      ]
    },
    {
      "cell_type": "code",
      "execution_count": null,
      "metadata": {},
      "outputs": [],
      "source": [
        "flags = [False, True, False]\n",
        "print(any(flags), all(flags))\n",
        "user_input = ''\n",
        "name = user_input or 'Guest'\n",
        "print(name)"
      ]
    },
    {
      "cell_type": "markdown",
      "metadata": {},
      "source": [
        "## 9) lambda, map(), sorted(key=...)"
      ]
    },
    {
      "cell_type": "code",
      "execution_count": null,
      "metadata": {},
      "outputs": [],
      "source": [
        "add1 = lambda x: x + 1\n",
        "print(add1(41))\n",
        "\n",
        "nums = [1,2,3]\n",
        "print(list(map(lambda x: x*2, nums)))\n",
        "\n",
        "students = [\n",
        "    {'name': 'Ann', 'score': 90},\n",
        "    {'name': 'Ben', 'score': 75},\n",
        "    {'name': 'Cat', 'score': 88},\n",
        "]\n",
        "print(sorted(students, key=lambda s: s['score'], reverse=True))"
      ]
    },
    {
      "cell_type": "markdown",
      "metadata": {},
      "source": [
        "## 10) *args and **kwargs basics"
      ]
    },
    {
      "cell_type": "code",
      "execution_count": null,
      "metadata": {},
      "outputs": [],
      "source": [
        "def greet(*names):\n",
        "    for n in names:\n",
        "        print('Hi', n)\n",
        "\n",
        "def info(**meta):\n",
        "    for k, v in meta.items():\n",
        "        print(f'{k}: {v}')\n",
        "\n",
        "greet('Alice', 'Bob', 'Charlie')\n",
        "info(lang='Python', level='Tips of the Day')"
      ]
    },
    {
      "cell_type": "markdown",
      "metadata": {},
      "source": [
        "## 11) File read/write minimal patterns"
      ]
    },
    {
      "cell_type": "code",
      "execution_count": null,
      "metadata": {},
      "outputs": [],
      "source": [
        "from pathlib import Path\n",
        "tmp = Path('tmp_tip_log.txt')\n",
        "with tmp.open('a', encoding='utf-8') as f:\n",
        "    f.write('New line from tips notebook\\n')\n",
        "print('Appended to', tmp.absolute())\n",
        "\n",
        "with tmp.open('r', encoding='utf-8') as f:\n",
        "    print('Last 1 line preview:')\n",
        "    print(f.readlines()[-1].strip())"
      ]
    }
  ],
  "metadata": {
    "kernelspec": {
      "display_name": "Python 3",
      "language": "python",
      "name": "python3"
    },
    "language_info": {
      "codemirror_mode": {
        "name": "ipython",
        "version": 3
      },
      "file_extension": ".py",
      "mimetype": "text/x-python",
      "name": "python",
      "nbconvert_exporter": "python",
      "pygments_lexer": "ipython3",
      "version": "3.13.7"
    }
  },
  "nbformat": 4,
  "nbformat_minor": 5
}
